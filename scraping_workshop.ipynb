{
 "cells": [
  {
   "cell_type": "markdown",
   "metadata": {},
   "source": [
    "# Introduction to Web Scraping, Part Two (Python)\n",
    "- UMN LATIS & Libraries workshop, Dec 3, 2021\n",
    "- Cody Hennesy (chennesy@umn.edu) and Michael Beckstrand (mjbeckst@umn.edu)\n",
    "\n",
    "In this part of the workshop, we'll explore reproducible web scraping methods using Python. \n",
    "\n",
    "Specifically, in this part of the workshop we will:\n",
    "* Use Python 3 in a Jupyter computing environment\n",
    "* Use the Requests and BeautifulSoup Python libraries to access HTML data from the web\n",
    "* Create variables, lists and loops to work with web data in Python\n",
    "\n",
    "Credits: Content for this workshop was adapted from [Rochelle Terman's Web Scraping workshop](https://github.com/rochelleterman/scrape-interwebz) and from [Software Carpentry Python lessons](http://swcarpentry.github.io/python-novice-inflammation/)."
   ]
  },
  {
   "cell_type": "markdown",
   "metadata": {},
   "source": [
    "### Why Python? \n",
    "- Reproducibility\n",
    "- Repeatable\n",
    "- Extensible\n",
    "- Great for data access and data cleaning\n",
    "\n",
    "### What's Jupyter?\n",
    "- Web-based, easy to share\n",
    "- Easy to read, easy to run\n",
    "- Run code piece by piece"
   ]
  },
  {
   "cell_type": "markdown",
   "metadata": {},
   "source": [
    "## Python variables\n",
    "- You can use Python as a calculator. \n",
    "- To \"run\" a Jupyter cell hold down shift and select Return/Enter, or choose the \"play icon\" (right-facing triangle) from the Jupyter menu above. "
   ]
  },
  {
   "cell_type": "code",
   "execution_count": null,
   "metadata": {},
   "outputs": [],
   "source": [
    "weight_kg = 60"
   ]
  },
  {
   "cell_type": "code",
   "execution_count": null,
   "metadata": {},
   "outputs": [],
   "source": [
    "print(weight_kg)"
   ]
  },
  {
   "cell_type": "markdown",
   "metadata": {},
   "source": [
    "In Python, variable names:\n",
    "\n",
    "* can include letters, digits, and underscores\n",
    "* cannot start with a digit\n",
    "* are case sensitive.\n",
    "\n",
    "You can do calculations and save text strings in variables too."
   ]
  },
  {
   "cell_type": "code",
   "execution_count": null,
   "metadata": {},
   "outputs": [],
   "source": [
    "website = \"All the words on a website\"\n",
    "print(website)"
   ]
  },
  {
   "cell_type": "markdown",
   "metadata": {},
   "source": [
    "## Importing Libraries\n",
    "Importing a library is like getting a piece of lab equipment out of a storage locker and setting it up on the bench. Libraries provide additional functionality to the basic Python package, much like a new piece of equipment adds functionality to a lab space. Just like in the lab, importing too many libraries can sometimes complicate and slow down your programs - so we only import what we need for each program.\n",
    "\n",
    "Our primary tools will be the [Requests library](http://docs.python-requests.org/en/latest/user/quickstart/)\n",
    "and [Beautiful Soup](http://www.crummy.com/software/BeautifulSoup/bs4/doc/). \n",
    "\n",
    "Note: Another popular tool for web scraping with Python is [Scrapy](https://scrapy.org/). The general consensus is that it's a faster tool, and it does *more* than Beautiful Soup, but it might be more complex to learn."
   ]
  },
  {
   "cell_type": "code",
   "execution_count": 1,
   "metadata": {},
   "outputs": [],
   "source": [
    "import requests\n",
    "from bs4 import BeautifulSoup"
   ]
  },
  {
   "cell_type": "markdown",
   "metadata": {},
   "source": [
    "### Library functions\n",
    "The expression ```requests.get(...)``` is a function call that asks Python to run the function ```get``` which belongs to the ```requests``` library. \n",
    "\n",
    "This dotted notation is used everywhere in Python: the thing that appears before the dot contains the thing that appears after.\n",
    "\n",
    "As an example, we could use the dot notation to write the relationship between Minneapolis and Minnesota as ```Minnesota.Minneapolis```, just as *get* is a function that belongs to the *requests* library."
   ]
  },
  {
   "cell_type": "code",
   "execution_count": 2,
   "metadata": {},
   "outputs": [
    {
     "data": {
      "text/plain": [
       "<Response [200]>"
      ]
     },
     "execution_count": 2,
     "metadata": {},
     "output_type": "execute_result"
    }
   ],
   "source": [
    "requests.get('http://www.startribune.com/')"
   ]
  },
  {
   "cell_type": "markdown",
   "metadata": {},
   "source": [
    "#### What did we do above?\n",
    "1. Created a Python HTTP request object for a GET\n",
    "2. Send the HTTP request to webserver at http://www.startribune.com/\n",
    "3. Received the response ```[200]``` from http://www.startribune.com/ - [what's that mean?](https://en.wikipedia.org/wiki/List_of_HTTP_status_codes)"
   ]
  },
  {
   "cell_type": "markdown",
   "metadata": {},
   "source": [
    "In Jupyter notebooks using Python you can explore functions of a library using the *tab* key.\n",
    "\n",
    "And to understand each function you can get information by putting a question mark after it:"
   ]
  },
  {
   "cell_type": "code",
   "execution_count": 3,
   "metadata": {},
   "outputs": [
    {
     "data": {
      "text/plain": [
       "\u001b[0;31mSignature:\u001b[0m \u001b[0mrequests\u001b[0m\u001b[0;34m.\u001b[0m\u001b[0mget\u001b[0m\u001b[0;34m(\u001b[0m\u001b[0murl\u001b[0m\u001b[0;34m,\u001b[0m \u001b[0mparams\u001b[0m\u001b[0;34m=\u001b[0m\u001b[0;32mNone\u001b[0m\u001b[0;34m,\u001b[0m \u001b[0;34m**\u001b[0m\u001b[0mkwargs\u001b[0m\u001b[0;34m)\u001b[0m\u001b[0;34m\u001b[0m\u001b[0m\n",
       "\u001b[0;31mDocstring:\u001b[0m\n",
       "Sends a GET request.\n",
       "\n",
       ":param url: URL for the new :class:`Request` object.\n",
       ":param params: (optional) Dictionary, list of tuples or bytes to send\n",
       "    in the query string for the :class:`Request`.\n",
       ":param \\*\\*kwargs: Optional arguments that ``request`` takes.\n",
       ":return: :class:`Response <Response>` object\n",
       ":rtype: requests.Response\n",
       "\u001b[0;31mFile:\u001b[0m      /anaconda3/lib/python3.7/site-packages/requests/api.py\n",
       "\u001b[0;31mType:\u001b[0m      function\n"
      ]
     },
     "metadata": {},
     "output_type": "display_data"
    }
   ],
   "source": [
    "requests.get?"
   ]
  },
  {
   "cell_type": "markdown",
   "metadata": {},
   "source": [
    "You can store the data that is returned from the GET request in a variable:"
   ]
  },
  {
   "cell_type": "code",
   "execution_count": 5,
   "metadata": {},
   "outputs": [
    {
     "name": "stdout",
     "output_type": "stream",
     "text": [
      "<Response [200]>\n"
     ]
    }
   ],
   "source": [
    "star_trib = requests.get('http://www.startribune.com/')\n",
    "print(star_trib)"
   ]
  },
  {
   "cell_type": "markdown",
   "metadata": {},
   "source": [
    "### Ethical scraping\n",
    "One way to make sure you're engaging in transparent and ethical scraping practices is to send the website information about *yourself* along with your request. \n",
    "\n",
    "```requests.get``` includes a ```headers=``` parameter that you can use to send in your name and information about the software we're using to collect data:"
   ]
  },
  {
   "cell_type": "code",
   "execution_count": 6,
   "metadata": {},
   "outputs": [],
   "source": [
    "headers = {'user-agent': 'python-requests/2.22.0; chennesy@umn.edu; Cody Hennesy'}\n",
    "star_trib = requests.get('http://www.startribune.com/', headers=headers)"
   ]
  },
  {
   "cell_type": "markdown",
   "metadata": {},
   "source": [
    "Now you can explore the attributes of the data object stored in ```star_trib``` using the same dot notation. \n",
    "\n",
    "Use tab to explore the options, and the question mark to read more about the attribute.\n",
    "\n",
    "```star_trib.text```, for example."
   ]
  },
  {
   "cell_type": "code",
   "execution_count": 7,
   "metadata": {},
   "outputs": [],
   "source": [
    "src = star_trib.text"
   ]
  },
  {
   "cell_type": "markdown",
   "metadata": {},
   "source": [
    "Let's move the .text content that was returned from the Request into a BeautifulSoup object so we can start to explore the HTML tree."
   ]
  },
  {
   "cell_type": "code",
   "execution_count": 8,
   "metadata": {},
   "outputs": [
    {
     "name": "stdout",
     "output_type": "stream",
     "text": [
      "<!DOCTYPE html>\n",
      "<!--[if IE 8 ]>    <html dir=\"ltr\" lang=\"en-US\" class=\"no-js ie8 oldie\"> <![endif]-->\n",
      "<!--[if IE 9]><html lang=\"en\" class=\"ie ie9\"><![endif]-->\n",
      "<html>\n",
      " <head>\n",
      "  <meta charset=\"utf-8\"/>\n",
      "  <meta content=\"IE=edge\" http-equiv=\"X-UA-Compatible\"/>\n",
      "  <script>\n",
      "   window.zeusAdUnitPath ='/7932/website/web_homepage';\n",
      "  </script>\n",
      "  <link href=\"startribune.zeustechnology.com\" rel=\"dns-prefetch\"/>\n",
      "  <link href=\"securepubads.g.doubleclick.net\" rel=\"dns-prefetch\"/>\n",
      "  <link href=\"static.doubleclick.net\" rel=\"dns-prefetch\"/>\n",
      "  <link href=\"ib.adnxs.com\" rel=\"dns-prefetch\"/>\n",
      "  <link href=\"as-sec.casalemedia.com\" rel=\"dns-prefetch\"/>\n",
      "  <link href=\"js-sec.indexww.com\" rel=\"dns-prefetch\"/>\n",
      "  <link href=\"ox-ui.mst.servedbyopenx.com\" rel=\"dns-prefetch\"/>\n",
      "  <link href=\"hbopenbid.pubmatic.com\" rel=\"dns-prefetch\"/>\n",
      "  <link href=\"fastlane.rubiconproject.com\" rel=\"dns-prefetch\"/>\n",
      "  <link href=\"ap.lijit.com\" rel=\"dns-prefetch\"/>\n",
      "  <link href=\"tlx.3lift.com\" rel=\"dns-prefetch\"/>\n",
      "  <link href=\"c.amazo\n"
     ]
    }
   ],
   "source": [
    "# parse the response into an HTML tree by calling BeautifulSoup\n",
    "soup = BeautifulSoup(src, 'lxml')\n",
    "\n",
    "# look at what it looks like now, using the soup.prettify tool\n",
    "# [:1000] will give us the first 1000 characters in the soup object so it doesn't fill up the whole screen\n",
    "print(soup.prettify()[:1000])"
   ]
  },
  {
   "cell_type": "markdown",
   "metadata": {},
   "source": [
    "## Find Elements\n",
    "\n",
    "BeautifulSoup has a number of functions to find things on a page. Like other webscraping tools, Beautiful Soup lets you find elements by their:\n",
    "\n",
    "1. HTML tags\n",
    "2. HTML Attributes\n",
    "3. CSS Selectors\n",
    "\n",
    "#### HTML tags\n",
    "Let's search first for **HTML tags**. \n",
    "\n",
    "The function `find_all` searches the `soup` tree to find all the elements with an a particular HTML tag, and returns all of those elements.\n",
    "\n",
    "What does the example below do?"
   ]
  },
  {
   "cell_type": "code",
   "execution_count": 14,
   "metadata": {},
   "outputs": [],
   "source": [
    "# find all elements in a certain tag\n",
    "soup.find_all(\"a\")"
   ]
  },
  {
   "cell_type": "code",
   "execution_count": 15,
   "metadata": {},
   "outputs": [],
   "source": [
    "soup.find_all('p')"
   ]
  },
  {
   "cell_type": "code",
   "execution_count": 16,
   "metadata": {},
   "outputs": [],
   "source": [
    "soup.find_all('h3')"
   ]
  },
  {
   "cell_type": "markdown",
   "metadata": {},
   "source": [
    "Because `find_all()` is the most popular method in the Beautiful Soup search API, you can use a shortcut for it. If you treat the BeautifulSoup object as though it were a function, then it’s the same as calling `find_all()` on that object. \n",
    "\n",
    "These two lines of code are equivalent:"
   ]
  },
  {
   "cell_type": "code",
   "execution_count": 13,
   "metadata": {},
   "outputs": [],
   "source": [
    "soup.find_all(\"a\")\n",
    "soup(\"a\")"
   ]
  },
  {
   "cell_type": "markdown",
   "metadata": {},
   "source": [
    "#### HTML Attributes \n",
    "If you search for everything with the `a` tag, you're likely to get a lot of stuff, much of which you don't want. What if we wanted to search for HTML tags ONLY with certain attributes, like particular CSS classes? \n",
    "\n",
    "We can do this by adding an additional argument to the `find_all` like this: ```soup(\"a\", class_=\"class_name\")```"
   ]
  },
  {
   "cell_type": "markdown",
   "metadata": {},
   "source": [
    "### Challenge (1): Finding the Most Read and Emailed articles on the Star Tribune homepage\n",
    "We can use Chrome's *Inspect* feature, to find the class name for the Most Read and Most Emailed articles lists (feed-list-link). \n",
    "\n",
    "** DEMO using Chrome Inspect to look at Headlines **\n",
    "\n",
    "1. Let's create a variable called most_read, and use ```soup()``` to find all of the links with the appropriate class\n",
    "2. Then we'll print out the matches below\n"
   ]
  },
  {
   "cell_type": "markdown",
   "metadata": {},
   "source": [
    "In the example below, we are finding all the `a` tags, and then filtering those with `class_=\"feed-list-link\"`."
   ]
  },
  {
   "cell_type": "code",
   "execution_count": 17,
   "metadata": {},
   "outputs": [
    {
     "name": "stdout",
     "output_type": "stream",
     "text": [
      "[<a class=\"feed-list-link\" data-linkname=\"DNR: Walleye poachers near Baudette were 48 fish over limit\" data-linktype=\"headline\" data-modulename=\"most-read - n-a\" data-moduletype=\"zone2-most-read\" data-position=\"2-1\" href=\"https://www.startribune.com/dnr-walleye-poachers-near-baudette-were-48-fish-over-their-limit/600117379/\">\n",
      "                    DNR: Walleye poachers near Baudette were 48 fish over limit\n",
      "                </a>, <a class=\"feed-list-link\" data-linkname=\"Two charged with fatally beating pregnant woman whose body was found in Uptown\" data-linktype=\"headline\" data-modulename=\"most-read - n-a\" data-moduletype=\"zone2-most-read\" data-position=\"2-2\" href=\"https://www.startribune.com/two-charged-with-fatally-beating-pregnant-woman-whose-body-was-found-in-uptown/600117428/\">\n",
      "                    Two charged with fatally beating pregnant woman whose body was found in Uptown\n",
      "                </a>, <a class=\"feed-list-link\" data-linkname=\"'The Bachelorette' brings her suitors — including 'Minnesota Joe' — home to Minnesota\" data-linktype=\"headline\" data-modulename=\"most-read - n-a\" data-moduletype=\"zone2-most-read\" data-position=\"2-3\" href=\"https://www.startribune.com/the-bachelorette-brings-her-suitors-including-minnesota-joe-home-to-minnesota/600117702/\">\n",
      "                    'The Bachelorette' brings her suitors — including 'Minnesota Joe' — home to Minnesota\n",
      "                </a>, <a class=\"feed-list-link\" data-linkname=\"Minnesota preps COVID booster shot expansion for all adults\" data-linktype=\"headline\" data-modulename=\"most-read - n-a\" data-moduletype=\"zone2-most-read\" data-position=\"2-4\" href=\"https://www.startribune.com/minnesota-urges-booster-expansion-school-protections-against-worsening-covid-19-wave/600117372/\">\n",
      "                    Minnesota preps COVID booster shot expansion for all adults\n",
      "                </a>, <a class=\"feed-list-link\" data-linkname=\"Minnesota has worst 7-day rate of new COVID cases in U.S.\" data-linktype=\"headline\" data-modulename=\"most-read - n-a\" data-moduletype=\"zone2-most-read\" data-position=\"2-5\" href=\"https://www.startribune.com/minnesota-has-nation-s-worst-7-day-rate-of-new-covid-19-infections/600116980/\">\n",
      "                    Minnesota has worst 7-day rate of new COVID cases in U.S.\n",
      "                </a>, <a class=\"feed-list-link\" data-linkname=\"5 Twin Cities chefs share tips on preparing the best Thanksgiving turkey\" data-linktype=\"headline\" data-modulename=\"most-shared - n-a\" data-moduletype=\"zone2-most-shared\" data-position=\"3-1\" href=\"https://www.startribune.com/5-twin-cities-chefs-share-tips-on-preparing-the-best-thanksgiving-turkey/600117719/\">\n",
      "                    5 Twin Cities chefs share tips on preparing the best Thanksgiving turkey\n",
      "                </a>, <a class=\"feed-list-link\" data-linkname=\"Green Bay Packers kick off 'stock' sale\" data-linktype=\"headline\" data-modulename=\"most-shared - n-a\" data-moduletype=\"zone2-most-shared\" data-position=\"3-2\" href=\"https://www.startribune.com/green-bay-packers-kick-off-stock-sale/600117440/\">\n",
      "                    Green Bay Packers kick off 'stock' sale\n",
      "                </a>, <a class=\"feed-list-link\" data-linkname=\"Minnesota has worst 7-day rate of new COVID cases in U.S.\" data-linktype=\"headline\" data-modulename=\"most-shared - n-a\" data-moduletype=\"zone2-most-shared\" data-position=\"3-3\" href=\"https://www.startribune.com/minnesota-has-nation-s-worst-7-day-rate-of-new-covid-19-infections/600116980/\">\n",
      "                    Minnesota has worst 7-day rate of new COVID cases in U.S.\n",
      "                </a>, <a class=\"feed-list-link\" data-linkname=\"'The Bachelorette' brings her suitors — including 'Minnesota Joe' — home to Minnesota\" data-linktype=\"headline\" data-modulename=\"most-shared - n-a\" data-moduletype=\"zone2-most-shared\" data-position=\"3-4\" href=\"https://www.startribune.com/the-bachelorette-brings-her-suitors-including-minnesota-joe-home-to-minnesota/600117702/\">\n",
      "                    'The Bachelorette' brings her suitors — including 'Minnesota Joe' — home to Minnesota\n",
      "                </a>, <a class=\"feed-list-link\" data-linkname=\"After disruption at Guthrie's 'Christmas Carol,' Twin Cities theaters look at safety practices\" data-linktype=\"headline\" data-modulename=\"most-shared - n-a\" data-moduletype=\"zone2-most-shared\" data-position=\"3-5\" href=\"https://www.startribune.com/after-the-disruption-at-guthries-christmas-carol-twin-cities-theaters-look-at-safety-practices/600117310/\">\n",
      "                    After disruption at Guthrie's 'Christmas Carol,' Twin Cities theaters look at safety practices\n",
      "                </a>]\n"
     ]
    }
   ],
   "source": [
    "# Get only the 'a' tags in 'sidemenu' class\n",
    "most_read = soup(\"a\", class_=\"feed-list-link\")\n",
    "print(most_read)"
   ]
  },
  {
   "cell_type": "markdown",
   "metadata": {},
   "source": [
    "#### CSS Selectors\n",
    "It can be more efficient to search and find things on a website by **CSS selector.** For this we have to use a different method, `select()`. Just pass a string into the `.select()` to get all elements with that string as a valid CSS selector.\n",
    "\n",
    "In the example above, we can use \"a.feed-list-link\" as a CSS selector, which returns all `a` tags with class `feed-list-link`.\n",
    "\n",
    "##### How to find selectors?\n",
    "A number of browser extensions and other tools exist to help you find HTML and CSS. \n",
    "- [Selector Gadget](https://selectorgadget.com/)\n",
    "- [CSS Selector Helper](https://chrome.google.com/webstore/detail/css-selector-helper-for-c/gddgceinofapfodcekopkjjelkbjodin?hl=en)\n"
   ]
  },
  {
   "cell_type": "code",
   "execution_count": 18,
   "metadata": {},
   "outputs": [],
   "source": [
    "# get elements with \"a.sidemenu\" CSS Selector.\n",
    "most_read_select = soup.select(\"a.feed-list-link\")"
   ]
  },
  {
   "cell_type": "code",
   "execution_count": 19,
   "metadata": {},
   "outputs": [
    {
     "data": {
      "text/plain": [
       "[<a class=\"feed-list-link\" data-linkname=\"DNR: Walleye poachers near Baudette were 48 fish over limit\" data-linktype=\"headline\" data-modulename=\"most-read - n-a\" data-moduletype=\"zone2-most-read\" data-position=\"2-1\" href=\"https://www.startribune.com/dnr-walleye-poachers-near-baudette-were-48-fish-over-their-limit/600117379/\">\n",
       "                     DNR: Walleye poachers near Baudette were 48 fish over limit\n",
       "                 </a>,\n",
       " <a class=\"feed-list-link\" data-linkname=\"Two charged with fatally beating pregnant woman whose body was found in Uptown\" data-linktype=\"headline\" data-modulename=\"most-read - n-a\" data-moduletype=\"zone2-most-read\" data-position=\"2-2\" href=\"https://www.startribune.com/two-charged-with-fatally-beating-pregnant-woman-whose-body-was-found-in-uptown/600117428/\">\n",
       "                     Two charged with fatally beating pregnant woman whose body was found in Uptown\n",
       "                 </a>,\n",
       " <a class=\"feed-list-link\" data-linkname=\"'The Bachelorette' brings her suitors — including 'Minnesota Joe' — home to Minnesota\" data-linktype=\"headline\" data-modulename=\"most-read - n-a\" data-moduletype=\"zone2-most-read\" data-position=\"2-3\" href=\"https://www.startribune.com/the-bachelorette-brings-her-suitors-including-minnesota-joe-home-to-minnesota/600117702/\">\n",
       "                     'The Bachelorette' brings her suitors — including 'Minnesota Joe' — home to Minnesota\n",
       "                 </a>,\n",
       " <a class=\"feed-list-link\" data-linkname=\"Minnesota preps COVID booster shot expansion for all adults\" data-linktype=\"headline\" data-modulename=\"most-read - n-a\" data-moduletype=\"zone2-most-read\" data-position=\"2-4\" href=\"https://www.startribune.com/minnesota-urges-booster-expansion-school-protections-against-worsening-covid-19-wave/600117372/\">\n",
       "                     Minnesota preps COVID booster shot expansion for all adults\n",
       "                 </a>,\n",
       " <a class=\"feed-list-link\" data-linkname=\"Minnesota has worst 7-day rate of new COVID cases in U.S.\" data-linktype=\"headline\" data-modulename=\"most-read - n-a\" data-moduletype=\"zone2-most-read\" data-position=\"2-5\" href=\"https://www.startribune.com/minnesota-has-nation-s-worst-7-day-rate-of-new-covid-19-infections/600116980/\">\n",
       "                     Minnesota has worst 7-day rate of new COVID cases in U.S.\n",
       "                 </a>,\n",
       " <a class=\"feed-list-link\" data-linkname=\"5 Twin Cities chefs share tips on preparing the best Thanksgiving turkey\" data-linktype=\"headline\" data-modulename=\"most-shared - n-a\" data-moduletype=\"zone2-most-shared\" data-position=\"3-1\" href=\"https://www.startribune.com/5-twin-cities-chefs-share-tips-on-preparing-the-best-thanksgiving-turkey/600117719/\">\n",
       "                     5 Twin Cities chefs share tips on preparing the best Thanksgiving turkey\n",
       "                 </a>,\n",
       " <a class=\"feed-list-link\" data-linkname=\"Green Bay Packers kick off 'stock' sale\" data-linktype=\"headline\" data-modulename=\"most-shared - n-a\" data-moduletype=\"zone2-most-shared\" data-position=\"3-2\" href=\"https://www.startribune.com/green-bay-packers-kick-off-stock-sale/600117440/\">\n",
       "                     Green Bay Packers kick off 'stock' sale\n",
       "                 </a>,\n",
       " <a class=\"feed-list-link\" data-linkname=\"Minnesota has worst 7-day rate of new COVID cases in U.S.\" data-linktype=\"headline\" data-modulename=\"most-shared - n-a\" data-moduletype=\"zone2-most-shared\" data-position=\"3-3\" href=\"https://www.startribune.com/minnesota-has-nation-s-worst-7-day-rate-of-new-covid-19-infections/600116980/\">\n",
       "                     Minnesota has worst 7-day rate of new COVID cases in U.S.\n",
       "                 </a>,\n",
       " <a class=\"feed-list-link\" data-linkname=\"'The Bachelorette' brings her suitors — including 'Minnesota Joe' — home to Minnesota\" data-linktype=\"headline\" data-modulename=\"most-shared - n-a\" data-moduletype=\"zone2-most-shared\" data-position=\"3-4\" href=\"https://www.startribune.com/the-bachelorette-brings-her-suitors-including-minnesota-joe-home-to-minnesota/600117702/\">\n",
       "                     'The Bachelorette' brings her suitors — including 'Minnesota Joe' — home to Minnesota\n",
       "                 </a>,\n",
       " <a class=\"feed-list-link\" data-linkname=\"After disruption at Guthrie's 'Christmas Carol,' Twin Cities theaters look at safety practices\" data-linktype=\"headline\" data-modulename=\"most-shared - n-a\" data-moduletype=\"zone2-most-shared\" data-position=\"3-5\" href=\"https://www.startribune.com/after-the-disruption-at-guthries-christmas-carol-twin-cities-theaters-look-at-safety-practices/600117310/\">\n",
       "                     After disruption at Guthrie's 'Christmas Carol,' Twin Cities theaters look at safety practices\n",
       "                 </a>]"
      ]
     },
     "execution_count": 19,
     "metadata": {},
     "output_type": "execute_result"
    }
   ],
   "source": [
    "most_read_select"
   ]
  },
  {
   "cell_type": "markdown",
   "metadata": {},
   "source": [
    "### Python Lists\n",
    "\n",
    "The most popular kind of data collection in Python is the list, which takes the place of arrays in programming languages like C and Fortran.\n",
    "Lists have two primary important characteristics:\n",
    "1. They are mutable, i.e., they can be changed after they are created.\n",
    "2. They are heterogeneous, i.e., they can store values of many different types.\n",
    "\n",
    "To create a new list, you can just put some values in square brackets with commas in between."
   ]
  },
  {
   "cell_type": "code",
   "execution_count": 20,
   "metadata": {},
   "outputs": [
    {
     "data": {
      "text/plain": [
       "['red', 'orange', 'yellow']"
      ]
     },
     "execution_count": 20,
     "metadata": {},
     "output_type": "execute_result"
    }
   ],
   "source": [
    "my_list = ['red', 'orange', 'yellow']\n",
    "my_list"
   ]
  },
  {
   "cell_type": "markdown",
   "metadata": {},
   "source": [
    "To fetch the element at a specific location, put the *index* of that location in square brackets. But keep in mind that Python lists start the index from 0. So the list above has three index values: ```my_list[0] my_list[1] my_list[2]```"
   ]
  },
  {
   "cell_type": "code",
   "execution_count": 21,
   "metadata": {},
   "outputs": [
    {
     "ename": "IndexError",
     "evalue": "list index out of range",
     "output_type": "error",
     "traceback": [
      "\u001b[0;31m---------------------------------------------------------------------------\u001b[0m",
      "\u001b[0;31mIndexError\u001b[0m                                Traceback (most recent call last)",
      "\u001b[0;32m<ipython-input-21-fd82304115d4>\u001b[0m in \u001b[0;36m<module>\u001b[0;34m()\u001b[0m\n\u001b[1;32m      1\u001b[0m \u001b[0mmy_list\u001b[0m\u001b[0;34m[\u001b[0m\u001b[0;36m1\u001b[0m\u001b[0;34m]\u001b[0m\u001b[0;34m\u001b[0m\u001b[0m\n\u001b[0;32m----> 2\u001b[0;31m \u001b[0mmy_list\u001b[0m\u001b[0;34m[\u001b[0m\u001b[0;36m3\u001b[0m\u001b[0;34m]\u001b[0m\u001b[0;34m\u001b[0m\u001b[0m\n\u001b[0m",
      "\u001b[0;31mIndexError\u001b[0m: list index out of range"
     ]
    }
   ],
   "source": [
    "my_list[1]\n",
    "my_list[3]"
   ]
  },
  {
   "cell_type": "markdown",
   "metadata": {},
   "source": [
    "Let's go back to all of the a links with the class selector ```feed-list-link```."
   ]
  },
  {
   "cell_type": "code",
   "execution_count": 22,
   "metadata": {},
   "outputs": [],
   "source": [
    "#this is a Python list\n",
    "most_read = soup.select(\"a.feed-list-link\")"
   ]
  },
  {
   "cell_type": "markdown",
   "metadata": {},
   "source": [
    "You can see how many items are in your list using the ```len()``` Python function."
   ]
  },
  {
   "cell_type": "code",
   "execution_count": 23,
   "metadata": {},
   "outputs": [
    {
     "data": {
      "text/plain": [
       "10"
      ]
     },
     "execution_count": 23,
     "metadata": {},
     "output_type": "execute_result"
    }
   ],
   "source": [
    "len(most_read)"
   ]
  },
  {
   "cell_type": "markdown",
   "metadata": {},
   "source": [
    "And you can look at the first element in the list using the syntax variable[0]. \n",
    "\n",
    "Note: [0] refers to the first element in a list in Python, and [1] refers to the second."
   ]
  },
  {
   "cell_type": "code",
   "execution_count": 24,
   "metadata": {},
   "outputs": [
    {
     "data": {
      "text/plain": [
       "<a class=\"feed-list-link\" data-linkname=\"DNR: Walleye poachers near Baudette were 48 fish over limit\" data-linktype=\"headline\" data-modulename=\"most-read - n-a\" data-moduletype=\"zone2-most-read\" data-position=\"2-1\" href=\"https://www.startribune.com/dnr-walleye-poachers-near-baudette-were-48-fish-over-their-limit/600117379/\">\n",
       "                    DNR: Walleye poachers near Baudette were 48 fish over limit\n",
       "                </a>"
      ]
     },
     "execution_count": 24,
     "metadata": {},
     "output_type": "execute_result"
    }
   ],
   "source": [
    "most_read[0]"
   ]
  },
  {
   "cell_type": "markdown",
   "metadata": {},
   "source": [
    "We can use a built in Python function called type() to explore the results."
   ]
  },
  {
   "cell_type": "code",
   "execution_count": 25,
   "metadata": {},
   "outputs": [
    {
     "data": {
      "text/plain": [
       "bs4.element.Tag"
      ]
     },
     "execution_count": 25,
     "metadata": {},
     "output_type": "execute_result"
    }
   ],
   "source": [
    "# save the first element in the list to its own variable to make it easier to explore\n",
    "first_link = most_read[0]\n",
    "\n",
    "# check out its class\n",
    "type(first_link)"
   ]
  },
  {
   "cell_type": "markdown",
   "metadata": {},
   "source": [
    "It's a tag! If we look up Tag in the BeautifulSoup documentation, we know that we can use `.text` to look at the text."
   ]
  },
  {
   "cell_type": "code",
   "execution_count": 26,
   "metadata": {},
   "outputs": [
    {
     "data": {
      "text/plain": [
       "'\\n                    DNR: Walleye poachers near Baudette were 48 fish over limit\\n                '"
      ]
     },
     "execution_count": 26,
     "metadata": {},
     "output_type": "execute_result"
    }
   ],
   "source": [
    "first_link.text"
   ]
  },
  {
   "cell_type": "markdown",
   "metadata": {},
   "source": [
    "We can also look at the href attribute to check out the URL:"
   ]
  },
  {
   "cell_type": "code",
   "execution_count": 27,
   "metadata": {},
   "outputs": [
    {
     "data": {
      "text/plain": [
       "'https://www.startribune.com/dnr-walleye-poachers-near-baudette-were-48-fish-over-their-limit/600117379/'"
      ]
     },
     "execution_count": 27,
     "metadata": {},
     "output_type": "execute_result"
    }
   ],
   "source": [
    "first_link['href']"
   ]
  },
  {
   "cell_type": "markdown",
   "metadata": {},
   "source": [
    "### Loops\n",
    "\n",
    "If we want to explore all of the most popular articles, we can loop through each link and only grab the information that we care about. \n",
    "\n",
    "#### Note the syntax: \n",
    "\n",
    "```\n",
    "for x in y:\n",
    "    do_something # the code in the loop needs to be indented\n",
    "    do_another_thing\n",
    "```"
   ]
  },
  {
   "cell_type": "markdown",
   "metadata": {},
   "source": [
    "For 'a' tags, we also know there's an 'href' attribute that tells us where the link URL goes. "
   ]
  },
  {
   "cell_type": "markdown",
   "metadata": {},
   "source": [
    "We'll clean up the print output in Python by using a built-in .strip() function that removes extra white space from strings, and by adding some line breaks between elements using the ```'\\n'``` escape character."
   ]
  },
  {
   "cell_type": "code",
   "execution_count": 28,
   "metadata": {},
   "outputs": [
    {
     "name": "stdout",
     "output_type": "stream",
     "text": [
      "DNR: Walleye poachers near Baudette were 48 fish over limit \n",
      " https://www.startribune.com/dnr-walleye-poachers-near-baudette-were-48-fish-over-their-limit/600117379/ \n",
      "\n",
      "Two charged with fatally beating pregnant woman whose body was found in Uptown \n",
      " https://www.startribune.com/two-charged-with-fatally-beating-pregnant-woman-whose-body-was-found-in-uptown/600117428/ \n",
      "\n",
      "'The Bachelorette' brings her suitors — including 'Minnesota Joe' — home to Minnesota \n",
      " https://www.startribune.com/the-bachelorette-brings-her-suitors-including-minnesota-joe-home-to-minnesota/600117702/ \n",
      "\n",
      "Minnesota preps COVID booster shot expansion for all adults \n",
      " https://www.startribune.com/minnesota-urges-booster-expansion-school-protections-against-worsening-covid-19-wave/600117372/ \n",
      "\n",
      "Minnesota has worst 7-day rate of new COVID cases in U.S. \n",
      " https://www.startribune.com/minnesota-has-nation-s-worst-7-day-rate-of-new-covid-19-infections/600116980/ \n",
      "\n",
      "5 Twin Cities chefs share tips on preparing the best Thanksgiving turkey \n",
      " https://www.startribune.com/5-twin-cities-chefs-share-tips-on-preparing-the-best-thanksgiving-turkey/600117719/ \n",
      "\n",
      "Green Bay Packers kick off 'stock' sale \n",
      " https://www.startribune.com/green-bay-packers-kick-off-stock-sale/600117440/ \n",
      "\n",
      "Minnesota has worst 7-day rate of new COVID cases in U.S. \n",
      " https://www.startribune.com/minnesota-has-nation-s-worst-7-day-rate-of-new-covid-19-infections/600116980/ \n",
      "\n",
      "'The Bachelorette' brings her suitors — including 'Minnesota Joe' — home to Minnesota \n",
      " https://www.startribune.com/the-bachelorette-brings-her-suitors-including-minnesota-joe-home-to-minnesota/600117702/ \n",
      "\n",
      "After disruption at Guthrie's 'Christmas Carol,' Twin Cities theaters look at safety practices \n",
      " https://www.startribune.com/after-the-disruption-at-guthries-christmas-carol-twin-cities-theaters-look-at-safety-practices/600117310/ \n",
      "\n"
     ]
    }
   ],
   "source": [
    "for link in most_read:\n",
    "    print(link.text.strip(), '\\n', link['href'], '\\n')"
   ]
  },
  {
   "cell_type": "markdown",
   "metadata": {},
   "source": [
    "While printing content can provide a useful output as we code, it's usually much more useful to store the data so that we can operate on it later on (save it, clean it, etc.). In this case let's create an empty Python list and then extract the URLs from our most_read list to save there."
   ]
  },
  {
   "cell_type": "code",
   "execution_count": 29,
   "metadata": {},
   "outputs": [],
   "source": [
    "# you can create an empty list using open and closed square brackets without content\n",
    "most_read_urls = []\n",
    "\n",
    "for link in most_read:\n",
    "    # we can append new items to a list \"in place\" (without using an equals sign) using the append() function\n",
    "    most_read_urls.append(link['href'])"
   ]
  },
  {
   "cell_type": "code",
   "execution_count": 30,
   "metadata": {},
   "outputs": [
    {
     "name": "stdout",
     "output_type": "stream",
     "text": [
      "['https://www.startribune.com/dnr-walleye-poachers-near-baudette-were-48-fish-over-their-limit/600117379/', 'https://www.startribune.com/two-charged-with-fatally-beating-pregnant-woman-whose-body-was-found-in-uptown/600117428/', 'https://www.startribune.com/the-bachelorette-brings-her-suitors-including-minnesota-joe-home-to-minnesota/600117702/', 'https://www.startribune.com/minnesota-urges-booster-expansion-school-protections-against-worsening-covid-19-wave/600117372/', 'https://www.startribune.com/minnesota-has-nation-s-worst-7-day-rate-of-new-covid-19-infections/600116980/', 'https://www.startribune.com/5-twin-cities-chefs-share-tips-on-preparing-the-best-thanksgiving-turkey/600117719/', 'https://www.startribune.com/green-bay-packers-kick-off-stock-sale/600117440/', 'https://www.startribune.com/minnesota-has-nation-s-worst-7-day-rate-of-new-covid-19-infections/600116980/', 'https://www.startribune.com/the-bachelorette-brings-her-suitors-including-minnesota-joe-home-to-minnesota/600117702/', 'https://www.startribune.com/after-the-disruption-at-guthries-christmas-carol-twin-cities-theaters-look-at-safety-practices/600117310/']\n"
     ]
    }
   ],
   "source": [
    "print(most_read_urls)"
   ]
  },
  {
   "cell_type": "markdown",
   "metadata": {},
   "source": [
    "Now we have a list of URLs that we can later use as part of a modular approach to scraping. If we figure out how to scrape the content from an article page, we can re-use that code and say \"scrape the article content for every page in this list of URLs.\" To do that, let's figure out how to scrape content from an article page."
   ]
  },
  {
   "cell_type": "markdown",
   "metadata": {},
   "source": [
    "## Scrape an article page\n"
   ]
  },
  {
   "cell_type": "code",
   "execution_count": 31,
   "metadata": {},
   "outputs": [],
   "source": [
    "page = requests.get(\"https://www.startribune.com/former-vikings-great-matt-blair-dies-at-age-70-likely-linked-to-cte/572832852/\")"
   ]
  },
  {
   "cell_type": "code",
   "execution_count": 32,
   "metadata": {},
   "outputs": [],
   "source": [
    "src = page.text"
   ]
  },
  {
   "cell_type": "code",
   "execution_count": 33,
   "metadata": {},
   "outputs": [],
   "source": [
    "page_soup = BeautifulSoup(src, 'lxml')"
   ]
  },
  {
   "cell_type": "markdown",
   "metadata": {},
   "source": [
    "Exploring the HTML in Chrome is a great way to find the right selectors or attributes to scrape, but you can also take sneak peaks at common tags using ```.find_all()``` to help pinpoint specific elements. For example: ```.find_all('h1')``` or ```.find_all('p')```"
   ]
  },
  {
   "cell_type": "code",
   "execution_count": 34,
   "metadata": {},
   "outputs": [
    {
     "data": {
      "text/plain": [
       "[<p class=\"Text_Body\">Matt Blair, one of the greatest linebackers in Vikings history, died Thursday of what’s believed to be complications from chronic traumatic encephalopathy (CTE), the neurodegenerative disease linked to football and considered to be the signature menace in the NFL’s concussion claims in recent years.</p>,\n",
       " <p class=\"Text_Body\">He was 70 and had been in hospice care for an extended period of time.</p>,\n",
       " <p class=\"Text_Body\">“He’d been suffering for a while, so I guess maybe it’s a blessing in disguise,” said former teammate Scott Studwell, the only person in Vikings history with more tackles than the 1,452 Blair had from 1974-85. “But it’s still too young. It’s a sad day.”</p>,\n",
       " <p class=\"Text_Body\">In February 2015, a still-chiseled 64-year-old Blair broke down in tears during a Star Tribune interview. A local neurologist had just given Blair and his wife, Mary Beth, the bad news that his early signs of dementia were likely the results of CTE — which can’t be diagnosed until after death — and were about to accelerate. Blair is believed to have had Alzheimer’s disease at the end.</p>,\n",
       " <p class=\"Text_Body\">The look in Blair’s eyes that day in 2015 was chilling.</p>,\n",
       " <p class=\"Text_Body\">“Well,” he said, “it’s coming. It’s going deeper for me.”    </p>,\n",
       " <p class=\"Text_Body\">Like too many football wives, Mary Beth knew her assignment that day was to become the strong one.</p>,\n",
       " <p class=\"Text_Body\">“I realize I can’t get emotional because two of us emotional together would be a mess,” she said. “I could see Matt’s eyes welling up with tears. I’m thinking, ‘Breathe, breathe’ because inside I want to cry, too.”</p>,\n",
       " <p class=\"Text_Body\">In the fall of 2015, Blair’s former teammate, roommate, fellow linebacker and lifelong friend Fred McNeill died from ALS, amyotrophic lateral sclerosis, another neurodegenerative disease linked to CTE. He was 63.</p>,\n",
       " <p class=\"Text_Body\">Forty-one years earlier, the Vikings drafted McNeill out of UCLA in the first round and Blair out of Iowa State in the second round. They both played for the Vikings for 12 seasons. Blair became a six-time Pro Bowler and Associated Press first-team All-Pro in 1980.</p>,\n",
       " <p class=\"Text_Body\">“Matt was always so big and strong,” said former teammate and Vikings legendary ironman Jim Marshall. “It’s a shame he had to lose everything that he had. That’s the curse of playing football. You look at how many guys we’ve lost this way.”</p>,\n",
       " <p class=\"Text_Body\">The man McNeill replaced at the Vikings’ right-side linebacker was Wally Hilgenberg. He died from ALS in 2008. He was 66. Safety Orlando Thomas, who played from 1995-2001, also died of ALS in 2014. He was 42. And Hall of Fame center Mick Tingelhoff has been battling serious cognitive health problems since before his enshrinement in Canton in 2015.</p>,\n",
       " <p class=\"Text_Body\">Blair was born Sept. 20, 1950 in Hilo, Hawaii. Among his loves were football and photography, the latter of which he turned into a second career as a noted photographer in the Twin Cities.</p>,\n",
       " <p class=\"Text_Body\">He was All-America in 1973 and became an Iowa State Hall of Famer in 1999. In 2012, the Vikings placed him in their Ring of Honor.</p>,\n",
       " <p class=\"Text_Body\">Including playoffs and two Super Bowls, Blair played 173 games (139 starts). Only Studwell and Roy Winston played more games at linebacker in Vikings history.</p>,\n",
       " <p class=\"Text_Body\">“Matt embodied the best of what it means to be a Viking,” said Vikings owner and president Mark Wilf, via the team’s website. “He is a Ring of Honor player whose legacy will live on forever with the franchise and in the community he loved.”</p>,\n",
       " <p class=\"Text_Body\">Blair finished his career with 16 interceptions and 20 fumble recoveries, but it was his uncanny ability to block punts, PATs and field goals that many people remember most about his career.</p>,\n",
       " <p class=\"Text_Body\">He had 20 of them. Yes, 20, said Greg Coleman, former Vikings punter and the longtime friend of Blair’s.</p>,\n",
       " <p class=\"Text_Body\">“He was 6-5, which was unusual at the time, and he was what Bud [Grant] would call a leaper,” Coleman said. “Bud would have the big hogs up front to root the offensive line back. And then Matt was one of the most dominant kick-blocking linebackers ever.”</p>,\n",
       " <p class=\"Text_Body\">It was Coleman who got the word Thursday from Mary Beth that Blair had died. He relayed the information via text to more than 20 or so former teammates and friends.</p>,\n",
       " <p class=\"Text_Body\">“As a person, he was a hell of a man,” Coleman said. “He probably had as big a heart as anybody on that team. Always laughing that big, gregarious laugh of his.</p>,\n",
       " <p class=\"Text_Body\">“But he also took his responsibility as a leader and a captain seriously. He always led by example, but he also wasn’t afraid to tell a guy, ‘Hey, that’s not how we do it around here. This is how we do things.’ He was a great man who was not hard to follow.”    </p>,\n",
       " <p> </p>,\n",
       " <p></p>,\n",
       " <p><!-- td {border: 1px solid #ccc;}br {mso-data-placement:same-cell;} --><span style=\"font-size: 10pt; font-family: Arial;\"><strong>Mark Craig</strong> has covered college or pro football for 27 of his 31 years as a sports writer at the Canton (Ohio) Repository (1987-99) and Star Tribune. He is in his 24th season of covering the NFL. He is one of the 48 selectors for the Pro Football Hall of Fame.   </span></p>,\n",
       " <p class=\"footer-copyright\">© 2021 StarTribune. All rights reserved.</p>]"
      ]
     },
     "execution_count": 34,
     "metadata": {},
     "output_type": "execute_result"
    }
   ],
   "source": [
    "page_soup.find_all('p')"
   ]
  },
  {
   "cell_type": "markdown",
   "metadata": {},
   "source": [
    "It looks like the p class ```Text_Body``` would snag the full-text of the article for us:"
   ]
  },
  {
   "cell_type": "code",
   "execution_count": 35,
   "metadata": {},
   "outputs": [],
   "source": [
    "article_text = page_soup.select(\"p.Text_Body\")"
   ]
  },
  {
   "cell_type": "code",
   "execution_count": 36,
   "metadata": {},
   "outputs": [
    {
     "name": "stdout",
     "output_type": "stream",
     "text": [
      "Matt Blair, one of the greatest linebackers in Vikings history, died Thursday of what’s believed to be complications from chronic traumatic encephalopathy (CTE), the neurodegenerative disease linked to football and considered to be the signature menace in the NFL’s concussion claims in recent years.\n",
      "He was 70 and had been in hospice care for an extended period of time.\n",
      "“He’d been suffering for a while, so I guess maybe it’s a blessing in disguise,” said former teammate Scott Studwell, the only person in Vikings history with more tackles than the 1,452 Blair had from 1974-85. “But it’s still too young. It’s a sad day.”\n",
      "In February 2015, a still-chiseled 64-year-old Blair broke down in tears during a Star Tribune interview. A local neurologist had just given Blair and his wife, Mary Beth, the bad news that his early signs of dementia were likely the results of CTE — which can’t be diagnosed until after death — and were about to accelerate. Blair is believed to have had Alzheimer’s disease at the end.\n",
      "The look in Blair’s eyes that day in 2015 was chilling.\n",
      "“Well,” he said, “it’s coming. It’s going deeper for me.”    \n",
      "Like too many football wives, Mary Beth knew her assignment that day was to become the strong one.\n",
      "“I realize I can’t get emotional because two of us emotional together would be a mess,” she said. “I could see Matt’s eyes welling up with tears. I’m thinking, ‘Breathe, breathe’ because inside I want to cry, too.”\n",
      "In the fall of 2015, Blair’s former teammate, roommate, fellow linebacker and lifelong friend Fred McNeill died from ALS, amyotrophic lateral sclerosis, another neurodegenerative disease linked to CTE. He was 63.\n",
      "Forty-one years earlier, the Vikings drafted McNeill out of UCLA in the first round and Blair out of Iowa State in the second round. They both played for the Vikings for 12 seasons. Blair became a six-time Pro Bowler and Associated Press first-team All-Pro in 1980.\n",
      "“Matt was always so big and strong,” said former teammate and Vikings legendary ironman Jim Marshall. “It’s a shame he had to lose everything that he had. That’s the curse of playing football. You look at how many guys we’ve lost this way.”\n",
      "The man McNeill replaced at the Vikings’ right-side linebacker was Wally Hilgenberg. He died from ALS in 2008. He was 66. Safety Orlando Thomas, who played from 1995-2001, also died of ALS in 2014. He was 42. And Hall of Fame center Mick Tingelhoff has been battling serious cognitive health problems since before his enshrinement in Canton in 2015.\n",
      "Blair was born Sept. 20, 1950 in Hilo, Hawaii. Among his loves were football and photography, the latter of which he turned into a second career as a noted photographer in the Twin Cities.\n",
      "He was All-America in 1973 and became an Iowa State Hall of Famer in 1999. In 2012, the Vikings placed him in their Ring of Honor.\n",
      "Including playoffs and two Super Bowls, Blair played 173 games (139 starts). Only Studwell and Roy Winston played more games at linebacker in Vikings history.\n",
      "“Matt embodied the best of what it means to be a Viking,” said Vikings owner and president Mark Wilf, via the team’s website. “He is a Ring of Honor player whose legacy will live on forever with the franchise and in the community he loved.”\n",
      "Blair finished his career with 16 interceptions and 20 fumble recoveries, but it was his uncanny ability to block punts, PATs and field goals that many people remember most about his career.\n",
      "He had 20 of them. Yes, 20, said Greg Coleman, former Vikings punter and the longtime friend of Blair’s.\n",
      "“He was 6-5, which was unusual at the time, and he was what Bud [Grant] would call a leaper,” Coleman said. “Bud would have the big hogs up front to root the offensive line back. And then Matt was one of the most dominant kick-blocking linebackers ever.”\n",
      "It was Coleman who got the word Thursday from Mary Beth that Blair had died. He relayed the information via text to more than 20 or so former teammates and friends.\n",
      "“As a person, he was a hell of a man,” Coleman said. “He probably had as big a heart as anybody on that team. Always laughing that big, gregarious laugh of his.\n",
      "“But he also took his responsibility as a leader and a captain seriously. He always led by example, but he also wasn’t afraid to tell a guy, ‘Hey, that’s not how we do it around here. This is how we do things.’ He was a great man who was not hard to follow.”    \n"
     ]
    }
   ],
   "source": [
    "for article in article_text:\n",
    "    print(article.text)"
   ]
  },
  {
   "cell_type": "markdown",
   "metadata": {},
   "source": [
    "### Comments on Star Tribune - How to get them?\n",
    "\n",
    "Some elements of websites are \"hidden\" from web scrapers like BeautifulSoup because they appear as part of an iFrame, or because they require other code such as Javascript to load on the page. \n",
    "\n",
    "If we look at the link to \"Show Comments\" on the Star Tribune article, for example, there's not a URL, but a call to a Javascript tool called *js-comments* that is visible in the a class selector:\n",
    "\n",
    "```<a href=\"#\" class=\"js-comments-show comments-count-link talk-enabled\"><div class=\"comments-count\">18</div><span class=\"comments-show js-comments-show-txt\">Show Comments</span><img class=\"comment-count-image-tracking\" alt=\"\" src=\"http://apps.startribune.com/circulars/images/blank.gif\" style=\"display: none;\"></a>```\n",
    "\n",
    "To capture this \"hidden\" data, some researchers use browser emulators such as:\n",
    "\n",
    "- [Selenium](https://pypi.org/project/selenium/). This also requires other tools such as [ChromeDriver](https://sites.google.com/a/chromium.org/chromedriver/downloads), [RSelenium](https://cran.r-project.org/web/packages/RSelenium/index.html), and/or [Selenium with Python](https://selenium-python.readthedocs.io/).\n",
    "- [Puppeteer](https://pptr.dev/)"
   ]
  },
  {
   "cell_type": "markdown",
   "metadata": {},
   "source": [
    "## Challenge (3): Scrape the headline, byline, and date\n",
    "Let's explore the HTML for a Star Tribune article to see if we can scrape the headline, byline (author), and the date the article was posted from the page."
   ]
  },
  {
   "cell_type": "code",
   "execution_count": 37,
   "metadata": {},
   "outputs": [
    {
     "data": {
      "text/plain": [
       "'Former Vikings great Matt Blair dies at age 70, likely linked to CTE'"
      ]
     },
     "execution_count": 37,
     "metadata": {},
     "output_type": "execute_result"
    }
   ],
   "source": [
    "headline = page_soup.h1\n",
    "headline.text"
   ]
  },
  {
   "cell_type": "code",
   "execution_count": 38,
   "metadata": {},
   "outputs": [
    {
     "data": {
      "text/plain": [
       "'Mark Craig'"
      ]
     },
     "execution_count": 38,
     "metadata": {},
     "output_type": "execute_result"
    }
   ],
   "source": [
    "byline = page_soup.select('div.article-byline')\n",
    "byline[0].a.text"
   ]
  },
  {
   "cell_type": "code",
   "execution_count": 39,
   "metadata": {},
   "outputs": [
    {
     "data": {
      "text/plain": [
       "'October 23, 2020'"
      ]
     },
     "execution_count": 39,
     "metadata": {},
     "output_type": "execute_result"
    }
   ],
   "source": [
    "date = page_soup.select('div.article-dateline')\n",
    "date[0].text.strip()[:-9]"
   ]
  },
  {
   "cell_type": "markdown",
   "metadata": {},
   "source": [
    "## Functions\n",
    "Now let's define a function ```scrape_articles``` that cycles through our ```most_read_urls``` list, and grabs all of the data we care about from each page.\n",
    "\n",
    "The function definition opens with the keyword ```def``` followed by the name of the function (format_articles) and a parenthesized list of parameter names (unformatted_docs). The body of the function — the statements that are executed when it runs — is indented below the definition line. The body concludes with a return keyword followed by the value we want to take from the function."
   ]
  },
  {
   "cell_type": "code",
   "execution_count": 40,
   "metadata": {},
   "outputs": [],
   "source": [
    "def add_things(x, y):\n",
    "    z = x + y\n",
    "    return z"
   ]
  },
  {
   "cell_type": "markdown",
   "metadata": {},
   "source": [
    "We can run the function, passing values to the x and y parameters, and save the return value to a new variable."
   ]
  },
  {
   "cell_type": "code",
   "execution_count": 41,
   "metadata": {},
   "outputs": [
    {
     "name": "stdout",
     "output_type": "stream",
     "text": [
      "35\n"
     ]
    }
   ],
   "source": [
    "z = add_things(10,25)\n",
    "print(z)"
   ]
  },
  {
   "cell_type": "markdown",
   "metadata": {},
   "source": [
    "## Putting it all together: Scraping list function\n",
    "So let's use a function to scrape a few key elements from article pages. The input that the function will take is a list of URLs. Then for each url, it will scrape the headline, byline, and article text. Since we'll be hitting the Star Tribune server pretty rapidly, let's build in a timer using the time library to pause between each page."
   ]
  },
  {
   "cell_type": "code",
   "execution_count": 42,
   "metadata": {},
   "outputs": [],
   "source": [
    "import time"
   ]
  },
  {
   "cell_type": "code",
   "execution_count": 43,
   "metadata": {},
   "outputs": [],
   "source": [
    "# new function that accepts one parameter, a list.\n",
    "def scrape_strib(url_list):\n",
    "    #empty list to hold each page\n",
    "    results_list = []\n",
    "    \n",
    "    for url in url_list:\n",
    "        print('Scraping:', url)\n",
    "        time.sleep(5) # wait for 5 seconds\n",
    "        \n",
    "        # request the page content and convert it to a soup object\n",
    "        page = requests.get(url)\n",
    "        src = page.text\n",
    "        page_soup = BeautifulSoup(src, 'lxml')\n",
    "        \n",
    "        #find the text on the page\n",
    "        article_text = page_soup.select(\"p\") # because different kinds of articles use different p classes, we'll make this as generic as possible\n",
    "\n",
    "        # save all of the p_tags to a long string\n",
    "        article_string = ''.join(article.text.strip() for article in article_text)\n",
    "        \n",
    "        # save the headline (there should only be one!)\n",
    "        headline = page_soup.h1\n",
    "        \n",
    "        # we haven't talked about if/else statements, but before assigning a value we want to check that headline exists\n",
    "        # we can do that with the handy statement if x is not None: \n",
    "        # whatever is indented will only take place if the 'if' statement evaluates as true; otherwise we'll skip it, and go to the else\n",
    "        if headline is not None:\n",
    "            headline = headline.text.strip()\n",
    "        else:\n",
    "            headline = ''\n",
    "        \n",
    "        # bylines have a lot of variation from page to page so we're going to do a somewhat complex if/else check\n",
    "        byline = page_soup.select('div.article-byline')\n",
    "        if len(byline) > 0:\n",
    "            if byline[0].a is not None:\n",
    "                byline = byline[0].a.text\n",
    "            else:\n",
    "                byline = ''\n",
    "        else:\n",
    "            byline = ''\n",
    "        \n",
    "        # this is a new kind of container object, known as a tuple. It's a good way to package these lists and strings together for each page, and then assign them as one object to the overall results_list. \n",
    "        article_tuple = (url, headline, byline, article_string)\n",
    "        results_list.append(article_tuple)\n",
    "    \n",
    "    #return results_list after the for loop concludes\n",
    "    return results_list"
   ]
  },
  {
   "cell_type": "markdown",
   "metadata": {},
   "source": [
    "Now we can call our function, passing the most_read_urls list as a parameter, and saving the return value to a variable called scraped_articles."
   ]
  },
  {
   "cell_type": "code",
   "execution_count": 44,
   "metadata": {},
   "outputs": [
    {
     "name": "stdout",
     "output_type": "stream",
     "text": [
      "Scraping: https://www.startribune.com/dnr-walleye-poachers-near-baudette-were-48-fish-over-their-limit/600117379/\n",
      "Scraping: https://www.startribune.com/two-charged-with-fatally-beating-pregnant-woman-whose-body-was-found-in-uptown/600117428/\n",
      "Scraping: https://www.startribune.com/the-bachelorette-brings-her-suitors-including-minnesota-joe-home-to-minnesota/600117702/\n",
      "Scraping: https://www.startribune.com/minnesota-urges-booster-expansion-school-protections-against-worsening-covid-19-wave/600117372/\n",
      "Scraping: https://www.startribune.com/minnesota-has-nation-s-worst-7-day-rate-of-new-covid-19-infections/600116980/\n",
      "Scraping: https://www.startribune.com/5-twin-cities-chefs-share-tips-on-preparing-the-best-thanksgiving-turkey/600117719/\n",
      "Scraping: https://www.startribune.com/green-bay-packers-kick-off-stock-sale/600117440/\n",
      "Scraping: https://www.startribune.com/minnesota-has-nation-s-worst-7-day-rate-of-new-covid-19-infections/600116980/\n",
      "Scraping: https://www.startribune.com/the-bachelorette-brings-her-suitors-including-minnesota-joe-home-to-minnesota/600117702/\n",
      "Scraping: https://www.startribune.com/after-the-disruption-at-guthries-christmas-carol-twin-cities-theaters-look-at-safety-practices/600117310/\n"
     ]
    }
   ],
   "source": [
    "scraped_articles = scrape_strib(most_read_urls)"
   ]
  },
  {
   "cell_type": "markdown",
   "metadata": {},
   "source": [
    "We can explore the content by referring to the index for each item in the scraped_articles list. Also, looking over the URLs above, we can guess that some of these (like the videos) are probably not going to fit our articles list very well. When building a scraper, you'll want to spend a fair amount of time testing different kinds of content and building if/else statements to only collect the data you need."
   ]
  },
  {
   "cell_type": "code",
   "execution_count": 45,
   "metadata": {},
   "outputs": [
    {
     "name": "stdout",
     "output_type": "stream",
     "text": [
      "('https://www.startribune.com/dnr-walleye-poachers-near-baudette-were-48-fish-over-their-limit/600117379/', 'DNR: Walleye poachers near Baudette were 48 fish over their limit', 'Tony Kennedy', 'Three Twin Cities area men who went fishing instead of hunting during opening weekend of the deer season were caught poaching walleyes and saugers from Rainy River and Lake of the Woods, according to charges against them.Conservation Officer Corey Sura  caught onto the group\\'s activity Sunday afternoon while they were launching their boat into the river at Wheeler\\'s Point Public Access near Baudette, Minn. They initially denied having an overabundance of fish, but their stash was uncovered when the game warden heard a flopping noise.In total, the three men were busted for possessing 72 walleyes and saugers, 48 over their combined limit.The three men were identified asMichael Sysa, 22, of Oak Grove; David Sysa, 23, of Oak Grove; and Yevgeniy Simonovich, 29, of Elk River. Sura\\'s report said the group included a minor, also from Oak Grove.According to the report, Sura initially discovered that the group had two too many walleyes in the boat\\'s live well. Michael Sysa, who was driving the boat and trailer rig, said it was a mistake and he would take the ticket.Sura was prepared to confiscate the two extra fish and let the anglers take home the rest. He then asked permission to search the truck and Michael Sysa consented, the report said. Inside the truck were two coolers.\"I immediately heard the sound of \\'flopping,\\' coming from one of the two coolers,\\'\\' Sura wrote in his report.When he opened the container, it was three-quarters full of walleyes and saugers, and some were still alive. The other cooler contained dead walleyes and saugers caught the previous day, the report said.Initially, one of the men — David Sysa — denied any responsibility for the over-limit of fish, the report said.But after the officer allowed the three men to talk to each other, they each agreed to receive a misdemeanor ticket. Under the law, consequences could include restitution of $30 per illegal fish, or a total of $1,440.Sura\\'s report didn\\'t say if any of the fish were oversized. Special regulations for fishing in border waters say all keepers must be less than 19.5 inches in length or greater than 28 inches. Of the 72 fish caught and kept, 32 were walleyes.The Minnesota Department of Natural Resources donated the fish for consumption to residents of the Warroad Senior Living Center, Sura said in his report.Tony Kennedy is an outdoors writer covering Minnesota news about fishing, hunting, wildlife, conservation, camping, natural resource management, public land, forests and water.© 2021 StarTribune. All rights reserved.')\n"
     ]
    }
   ],
   "source": [
    "# we can look at the full tuple for each article\n",
    "print(scraped_articles[0])"
   ]
  },
  {
   "cell_type": "code",
   "execution_count": 46,
   "metadata": {},
   "outputs": [
    {
     "name": "stdout",
     "output_type": "stream",
     "text": [
      "First article:\n",
      "url: https://www.startribune.com/dnr-walleye-poachers-near-baudette-were-48-fish-over-their-limit/600117379/\n",
      "title: DNR: Walleye poachers near Baudette were 48 fish over their limit\n",
      "byline: Tony Kennedy\n",
      "First 250 chars from the text: Three Twin Cities area men who went fishing instead of hunting during opening weekend of the deer season were caught poaching walleyes and saugers from Rainy River and Lake of the Woods, according to charges against them.Conservation Officer Corey Su\n"
     ]
    }
   ],
   "source": [
    "# we can look at specific items by adding referring to the index of the tuple\n",
    "print('First article:')\n",
    "print('url:', scraped_articles[0][0])\n",
    "print('title:', scraped_articles[0][1])\n",
    "print('byline:', scraped_articles[0][2])\n",
    "print('First 250 chars from the text:', scraped_articles[0][3][0:250])"
   ]
  },
  {
   "cell_type": "markdown",
   "metadata": {},
   "source": [
    "# Data view and export"
   ]
  },
  {
   "cell_type": "markdown",
   "metadata": {},
   "source": [
    "When you've collected a lot of data like this it can be helpful to save it for later use. Which format you want to use to save data in Python depends on the structure of the data, but common formats are CSVs, JSON, and pickle files.\n",
    "\n",
    "In the case of more complex data structures, like our list of lists, we can use a tabular data tool called Pandas to store each article in a row, and then save that Pandas dataframe to a CSV file."
   ]
  },
  {
   "cell_type": "code",
   "execution_count": 47,
   "metadata": {},
   "outputs": [
    {
     "data": {
      "text/html": [
       "<div>\n",
       "<style scoped>\n",
       "    .dataframe tbody tr th:only-of-type {\n",
       "        vertical-align: middle;\n",
       "    }\n",
       "\n",
       "    .dataframe tbody tr th {\n",
       "        vertical-align: top;\n",
       "    }\n",
       "\n",
       "    .dataframe thead th {\n",
       "        text-align: right;\n",
       "    }\n",
       "</style>\n",
       "<table border=\"1\" class=\"dataframe\">\n",
       "  <thead>\n",
       "    <tr style=\"text-align: right;\">\n",
       "      <th></th>\n",
       "      <th>url</th>\n",
       "      <th>title</th>\n",
       "      <th>byline</th>\n",
       "      <th>text</th>\n",
       "    </tr>\n",
       "  </thead>\n",
       "  <tbody>\n",
       "    <tr>\n",
       "      <th>0</th>\n",
       "      <td>https://www.startribune.com/dnr-walleye-poache...</td>\n",
       "      <td>DNR: Walleye poachers near Baudette were 48 fi...</td>\n",
       "      <td>Tony Kennedy</td>\n",
       "      <td>Three Twin Cities area men who went fishing in...</td>\n",
       "    </tr>\n",
       "    <tr>\n",
       "      <th>1</th>\n",
       "      <td>https://www.startribune.com/two-charged-with-f...</td>\n",
       "      <td>Two charged with fatally beating pregnant woma...</td>\n",
       "      <td>Paul Walsh</td>\n",
       "      <td>Two people, one of them a convicted sex offend...</td>\n",
       "    </tr>\n",
       "    <tr>\n",
       "      <th>2</th>\n",
       "      <td>https://www.startribune.com/the-bachelorette-b...</td>\n",
       "      <td>'The Bachelorette' brings her suitors — includ...</td>\n",
       "      <td>Jenna Ross</td>\n",
       "      <td>Minnesota is getting lots of love on \"The Bach...</td>\n",
       "    </tr>\n",
       "    <tr>\n",
       "      <th>3</th>\n",
       "      <td>https://www.startribune.com/minnesota-urges-bo...</td>\n",
       "      <td>Minnesota urges booster expansion, school prot...</td>\n",
       "      <td>Jeremy Olson</td>\n",
       "      <td>Minnesota is preparing to expand COVID-19 vacc...</td>\n",
       "    </tr>\n",
       "    <tr>\n",
       "      <th>4</th>\n",
       "      <td>https://www.startribune.com/minnesota-has-nati...</td>\n",
       "      <td>Minnesota has nation's worst 7-day rate of new...</td>\n",
       "      <td>Jeremy Olson</td>\n",
       "      <td>Minnesota's rate of new coronavirus infections...</td>\n",
       "    </tr>\n",
       "    <tr>\n",
       "      <th>5</th>\n",
       "      <td>https://www.startribune.com/5-twin-cities-chef...</td>\n",
       "      <td>5 Twin Cities chefs share tips on preparing th...</td>\n",
       "      <td>Rick Nelson</td>\n",
       "      <td>To brine, or not to brine. Roasting vs. frying...</td>\n",
       "    </tr>\n",
       "    <tr>\n",
       "      <th>6</th>\n",
       "      <td>https://www.startribune.com/green-bay-packers-...</td>\n",
       "      <td>Green Bay Packers kick off 'stock' sale</td>\n",
       "      <td>Burl Gilyard</td>\n",
       "      <td>The Green Bay Packers, a storied football team...</td>\n",
       "    </tr>\n",
       "    <tr>\n",
       "      <th>7</th>\n",
       "      <td>https://www.startribune.com/minnesota-has-nati...</td>\n",
       "      <td>Minnesota has nation's worst 7-day rate of new...</td>\n",
       "      <td>Jeremy Olson</td>\n",
       "      <td>Minnesota's rate of new coronavirus infections...</td>\n",
       "    </tr>\n",
       "    <tr>\n",
       "      <th>8</th>\n",
       "      <td>https://www.startribune.com/the-bachelorette-b...</td>\n",
       "      <td>'The Bachelorette' brings her suitors — includ...</td>\n",
       "      <td>Jenna Ross</td>\n",
       "      <td>Minnesota is getting lots of love on \"The Bach...</td>\n",
       "    </tr>\n",
       "    <tr>\n",
       "      <th>9</th>\n",
       "      <td>https://www.startribune.com/after-the-disrupti...</td>\n",
       "      <td>After disruption at Guthrie's 'Christmas Carol...</td>\n",
       "      <td>Rohan Preston</td>\n",
       "      <td>Twin Cities theater companies are taking a new...</td>\n",
       "    </tr>\n",
       "  </tbody>\n",
       "</table>\n",
       "</div>"
      ],
      "text/plain": [
       "                                                 url  \\\n",
       "0  https://www.startribune.com/dnr-walleye-poache...   \n",
       "1  https://www.startribune.com/two-charged-with-f...   \n",
       "2  https://www.startribune.com/the-bachelorette-b...   \n",
       "3  https://www.startribune.com/minnesota-urges-bo...   \n",
       "4  https://www.startribune.com/minnesota-has-nati...   \n",
       "5  https://www.startribune.com/5-twin-cities-chef...   \n",
       "6  https://www.startribune.com/green-bay-packers-...   \n",
       "7  https://www.startribune.com/minnesota-has-nati...   \n",
       "8  https://www.startribune.com/the-bachelorette-b...   \n",
       "9  https://www.startribune.com/after-the-disrupti...   \n",
       "\n",
       "                                               title         byline  \\\n",
       "0  DNR: Walleye poachers near Baudette were 48 fi...   Tony Kennedy   \n",
       "1  Two charged with fatally beating pregnant woma...     Paul Walsh   \n",
       "2  'The Bachelorette' brings her suitors — includ...     Jenna Ross   \n",
       "3  Minnesota urges booster expansion, school prot...   Jeremy Olson   \n",
       "4  Minnesota has nation's worst 7-day rate of new...   Jeremy Olson   \n",
       "5  5 Twin Cities chefs share tips on preparing th...    Rick Nelson   \n",
       "6            Green Bay Packers kick off 'stock' sale   Burl Gilyard   \n",
       "7  Minnesota has nation's worst 7-day rate of new...   Jeremy Olson   \n",
       "8  'The Bachelorette' brings her suitors — includ...     Jenna Ross   \n",
       "9  After disruption at Guthrie's 'Christmas Carol...  Rohan Preston   \n",
       "\n",
       "                                                text  \n",
       "0  Three Twin Cities area men who went fishing in...  \n",
       "1  Two people, one of them a convicted sex offend...  \n",
       "2  Minnesota is getting lots of love on \"The Bach...  \n",
       "3  Minnesota is preparing to expand COVID-19 vacc...  \n",
       "4  Minnesota's rate of new coronavirus infections...  \n",
       "5  To brine, or not to brine. Roasting vs. frying...  \n",
       "6  The Green Bay Packers, a storied football team...  \n",
       "7  Minnesota's rate of new coronavirus infections...  \n",
       "8  Minnesota is getting lots of love on \"The Bach...  \n",
       "9  Twin Cities theater companies are taking a new...  "
      ]
     },
     "execution_count": 47,
     "metadata": {},
     "output_type": "execute_result"
    }
   ],
   "source": [
    "import pandas as pd\n",
    "\n",
    "# pandas has a function called DataFrame() that accepts a list as its input, and then we'll define the names of our column names\n",
    "df = pd.DataFrame(scraped_articles, columns=['url', 'title', 'byline', 'text'])\n",
    "\n",
    "# now let's view the table\n",
    "df"
   ]
  },
  {
   "cell_type": "markdown",
   "metadata": {},
   "source": [
    "And we can save a dataframe to a csv file using the pandas function to_csv()."
   ]
  },
  {
   "cell_type": "code",
   "execution_count": null,
   "metadata": {},
   "outputs": [],
   "source": [
    "df.to_csv('scraped_sites.csv')"
   ]
  },
  {
   "cell_type": "markdown",
   "metadata": {},
   "source": [
    "### More resources\n",
    "\n",
    "- [Programming Historian's Intro to BeautifulSoup](https://programminghistorian.org/en/lessons/intro-to-beautiful-soup)"
   ]
  }
 ],
 "metadata": {
  "kernelspec": {
   "display_name": "Python 3",
   "language": "python",
   "name": "python3"
  },
  "language_info": {
   "codemirror_mode": {
    "name": "ipython",
    "version": 3
   },
   "file_extension": ".py",
   "mimetype": "text/x-python",
   "name": "python",
   "nbconvert_exporter": "python",
   "pygments_lexer": "ipython3",
   "version": "3.7.0"
  }
 },
 "nbformat": 4,
 "nbformat_minor": 2
}
