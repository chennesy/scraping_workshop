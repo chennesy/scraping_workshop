{
 "cells": [
  {
   "cell_type": "markdown",
   "metadata": {},
   "source": [
    "## Challenge 3: \n",
    "### Scrape the headline, byline, and date\n",
    "\n",
    "Explore the HTML for any Star Tribune article to see if you can scrape the headline, byline (author), and the date the article was posted from the page.\n",
    "\n",
    "- Hint: there are several different routes to get to each element. \n",
    "- Hint two: The date and bylines can be a little confusing when you use ```.select()``` because they'll return a Python list, even if there's only one item on the list. To show the ```.text``` attribute from a list, you can point to the first item on the list using ```[0]```."
   ]
  },
  {
   "cell_type": "code",
   "execution_count": null,
   "metadata": {},
   "outputs": [],
   "source": [
    "headline = ________\n",
    "print(headline.______)"
   ]
  },
  {
   "cell_type": "code",
   "execution_count": null,
   "metadata": {},
   "outputs": [],
   "source": [
    "byline = ____________\n",
    "print(byline[0].___________)"
   ]
  },
  {
   "cell_type": "code",
   "execution_count": null,
   "metadata": {},
   "outputs": [],
   "source": [
    "date = _____________\n",
    "print(date[0].____________)"
   ]
  }
 ],
 "metadata": {
  "kernelspec": {
   "display_name": "Python 3",
   "language": "python",
   "name": "python3"
  },
  "language_info": {
   "codemirror_mode": {
    "name": "ipython",
    "version": 3
   },
   "file_extension": ".py",
   "mimetype": "text/x-python",
   "name": "python",
   "nbconvert_exporter": "python",
   "pygments_lexer": "ipython3",
   "version": "3.7.0"
  }
 },
 "nbformat": 4,
 "nbformat_minor": 2
}
