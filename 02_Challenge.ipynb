{
 "cells": [
  {
   "cell_type": "markdown",
   "metadata": {},
   "source": [
    "## Challenge 2: \n",
    "### Find all of the a tags\n",
    "\n",
    "Remember when we used soup.findall to collect all of the links on the Star Tribune homepage? \n",
    "\n",
    "Now create a variable, *all_links*, to collect all of the links on the homepage, and then loop over the list to print the text of each link and the URL.\n",
    "\n",
    "Hint: the results might look pretty messy! We use ```.strip()``` below to remove whitespace from strings and make the output easier on the eyes.\n"
   ]
  },
  {
   "cell_type": "code",
   "execution_count": null,
   "metadata": {},
   "outputs": [],
   "source": [
    "all_links = _________\n",
    "for _____ in ______:\n",
    "    print(_______.strip(), ______.strip())"
   ]
  }
 ],
 "metadata": {
  "kernelspec": {
   "display_name": "Python 3",
   "language": "python",
   "name": "python3"
  },
  "language_info": {
   "codemirror_mode": {
    "name": "ipython",
    "version": 3
   },
   "file_extension": ".py",
   "mimetype": "text/x-python",
   "name": "python",
   "nbconvert_exporter": "python",
   "pygments_lexer": "ipython3",
   "version": "3.7.2"
  }
 },
 "nbformat": 4,
 "nbformat_minor": 2
}
