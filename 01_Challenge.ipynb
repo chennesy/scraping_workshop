{
 "cells": [
  {
   "cell_type": "markdown",
   "metadata": {},
   "source": [
    "## Challenge 1: \n",
    "### Find the Most Read and Emailed articles on the Star Tribune homepage\n",
    "\n",
    "* Use Chrome's Inspect feature, to find the class name for the Most Read and Most Emailed articles lists.\n",
    "* Create a variable called most_read, and use soup() to find all of the links with the appropriate class.\n",
    "* Print the contents of the most_read variable"
   ]
  },
  {
   "cell_type": "code",
   "execution_count": null,
   "metadata": {},
   "outputs": [],
   "source": [
    "most_read = soup(___,_____)\n",
    "print(__________)"
   ]
  }
 ],
 "metadata": {
  "kernelspec": {
   "display_name": "Python 3",
   "language": "python",
   "name": "python3"
  },
  "language_info": {
   "codemirror_mode": {
    "name": "ipython",
    "version": 3
   },
   "file_extension": ".py",
   "mimetype": "text/x-python",
   "name": "python",
   "nbconvert_exporter": "python",
   "pygments_lexer": "ipython3",
   "version": "3.7.0"
  }
 },
 "nbformat": 4,
 "nbformat_minor": 2
}
