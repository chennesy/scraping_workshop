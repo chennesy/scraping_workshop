{
 "cells": [
  {
   "cell_type": "markdown",
   "metadata": {},
   "source": [
    "### Challenge (1): Finding the Most Read and Emailed articles on the Star Tribune homepage\n",
    "Use Chrome's *Inspect* feature, to find the class name for the Most Read and Most Emailed articles lists (feed-list-link). \n",
    "\n",
    "1. Create a variable called most_read, and use ```soup()``` to find all of the links with the appropriate class.\n",
    "2. Print out all of the links with the class 'feed-list-link' - keep in mind that the class attribute in ```soup()``` requires an underscore (```class_``` since ```class``` is a reserved Python attribute."
   ]
  },
  {
   "cell_type": "code",
   "execution_count": null,
   "metadata": {},
   "outputs": [],
   "source": []
  }
 ],
 "metadata": {
  "kernelspec": {
   "display_name": "Python 3",
   "language": "python",
   "name": "python3"
  },
  "language_info": {
   "codemirror_mode": {
    "name": "ipython",
    "version": 3
   },
   "file_extension": ".py",
   "mimetype": "text/x-python",
   "name": "python",
   "nbconvert_exporter": "python",
   "pygments_lexer": "ipython3",
   "version": "3.7.0"
  }
 },
 "nbformat": 4,
 "nbformat_minor": 2
}
